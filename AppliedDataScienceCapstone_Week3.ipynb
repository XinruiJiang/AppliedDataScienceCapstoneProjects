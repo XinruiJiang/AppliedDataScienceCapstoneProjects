{
 "cells": [
  {
   "cell_type": "markdown",
   "metadata": {},
   "source": [
    "# Applied Data Science Capstone Project \n",
    "## Week 3"
   ]
  },
  {
   "cell_type": "markdown",
   "metadata": {},
   "source": [
    "### Read table"
   ]
  },
  {
   "cell_type": "code",
   "execution_count": 1,
   "metadata": {},
   "outputs": [],
   "source": [
    "#!pip install lxml # uncomment if lxml is not installed\n",
    "\n",
    "import requests\n",
    "import pandas as pd\n",
    "\n",
    "# provide url for scraping \n",
    "url = \"https://en.wikipedia.org/wiki/List_of_postal_codes_of_Canada:_M\"\n",
    "\n",
    "# grab and read info from html\n",
    "html = requests.get(url).content\n",
    "df_list = pd.read_html(html)"
   ]
  },
  {
   "cell_type": "code",
   "execution_count": 47,
   "metadata": {},
   "outputs": [
    {
     "data": {
      "text/html": [
       "<div>\n",
       "<style scoped>\n",
       "    .dataframe tbody tr th:only-of-type {\n",
       "        vertical-align: middle;\n",
       "    }\n",
       "\n",
       "    .dataframe tbody tr th {\n",
       "        vertical-align: top;\n",
       "    }\n",
       "\n",
       "    .dataframe thead th {\n",
       "        text-align: right;\n",
       "    }\n",
       "</style>\n",
       "<table border=\"1\" class=\"dataframe\">\n",
       "  <thead>\n",
       "    <tr style=\"text-align: right;\">\n",
       "      <th></th>\n",
       "      <th>Postal Code</th>\n",
       "      <th>Borough</th>\n",
       "      <th>Neighbourhood</th>\n",
       "    </tr>\n",
       "  </thead>\n",
       "  <tbody>\n",
       "    <tr>\n",
       "      <th>0</th>\n",
       "      <td>M3A</td>\n",
       "      <td>North York</td>\n",
       "      <td>Parkwoods</td>\n",
       "    </tr>\n",
       "    <tr>\n",
       "      <th>1</th>\n",
       "      <td>M4A</td>\n",
       "      <td>North York</td>\n",
       "      <td>Victoria Village</td>\n",
       "    </tr>\n",
       "    <tr>\n",
       "      <th>2</th>\n",
       "      <td>M5A</td>\n",
       "      <td>Downtown Toronto</td>\n",
       "      <td>Regent Park, Harbourfront</td>\n",
       "    </tr>\n",
       "    <tr>\n",
       "      <th>3</th>\n",
       "      <td>M6A</td>\n",
       "      <td>North York</td>\n",
       "      <td>Lawrence Manor, Lawrence Heights</td>\n",
       "    </tr>\n",
       "    <tr>\n",
       "      <th>4</th>\n",
       "      <td>M7A</td>\n",
       "      <td>Downtown Toronto</td>\n",
       "      <td>Queen's Park, Ontario Provincial Government</td>\n",
       "    </tr>\n",
       "  </tbody>\n",
       "</table>\n",
       "</div>"
      ],
      "text/plain": [
       "  Postal Code           Borough                                Neighbourhood\n",
       "0         M3A        North York                                    Parkwoods\n",
       "1         M4A        North York                             Victoria Village\n",
       "2         M5A  Downtown Toronto                    Regent Park, Harbourfront\n",
       "3         M6A        North York             Lawrence Manor, Lawrence Heights\n",
       "4         M7A  Downtown Toronto  Queen's Park, Ontario Provincial Government"
      ]
     },
     "execution_count": 47,
     "metadata": {},
     "output_type": "execute_result"
    }
   ],
   "source": [
    "# choose which table to look at\n",
    "# remove \"Not assigned\" records\n",
    "df = pd.read_html(html)[0]\n",
    "df = df[~df.Borough.str.contains(\"Not assigned\")].reset_index(drop = True)\n",
    "df.head()"
   ]
  },
  {
   "cell_type": "code",
   "execution_count": 48,
   "metadata": {},
   "outputs": [
    {
     "data": {
      "text/plain": [
       "(103, 3)"
      ]
     },
     "execution_count": 48,
     "metadata": {},
     "output_type": "execute_result"
    }
   ],
   "source": [
    "# print shape of df\n",
    "df.shape"
   ]
  },
  {
   "cell_type": "markdown",
   "metadata": {},
   "source": [
    "### Add geographical coordinates"
   ]
  },
  {
   "cell_type": "code",
   "execution_count": 108,
   "metadata": {},
   "outputs": [
    {
     "data": {
      "text/html": [
       "<div>\n",
       "<style scoped>\n",
       "    .dataframe tbody tr th:only-of-type {\n",
       "        vertical-align: middle;\n",
       "    }\n",
       "\n",
       "    .dataframe tbody tr th {\n",
       "        vertical-align: top;\n",
       "    }\n",
       "\n",
       "    .dataframe thead th {\n",
       "        text-align: right;\n",
       "    }\n",
       "</style>\n",
       "<table border=\"1\" class=\"dataframe\">\n",
       "  <thead>\n",
       "    <tr style=\"text-align: right;\">\n",
       "      <th></th>\n",
       "      <th>Postal Code</th>\n",
       "      <th>Latitude</th>\n",
       "      <th>Longitude</th>\n",
       "    </tr>\n",
       "  </thead>\n",
       "  <tbody>\n",
       "    <tr>\n",
       "      <th>0</th>\n",
       "      <td>M1B</td>\n",
       "      <td>43.806686</td>\n",
       "      <td>-79.194353</td>\n",
       "    </tr>\n",
       "    <tr>\n",
       "      <th>1</th>\n",
       "      <td>M1C</td>\n",
       "      <td>43.784535</td>\n",
       "      <td>-79.160497</td>\n",
       "    </tr>\n",
       "    <tr>\n",
       "      <th>2</th>\n",
       "      <td>M1E</td>\n",
       "      <td>43.763573</td>\n",
       "      <td>-79.188711</td>\n",
       "    </tr>\n",
       "    <tr>\n",
       "      <th>3</th>\n",
       "      <td>M1G</td>\n",
       "      <td>43.770992</td>\n",
       "      <td>-79.216917</td>\n",
       "    </tr>\n",
       "    <tr>\n",
       "      <th>4</th>\n",
       "      <td>M1H</td>\n",
       "      <td>43.773136</td>\n",
       "      <td>-79.239476</td>\n",
       "    </tr>\n",
       "  </tbody>\n",
       "</table>\n",
       "</div>"
      ],
      "text/plain": [
       "  Postal Code   Latitude  Longitude\n",
       "0         M1B  43.806686 -79.194353\n",
       "1         M1C  43.784535 -79.160497\n",
       "2         M1E  43.763573 -79.188711\n",
       "3         M1G  43.770992 -79.216917\n",
       "4         M1H  43.773136 -79.239476"
      ]
     },
     "execution_count": 108,
     "metadata": {},
     "output_type": "execute_result"
    }
   ],
   "source": [
    "# get coordinate data\n",
    "data = pd.read_csv('http://cocl.us/Geospatial_data')\n",
    "data.head()"
   ]
  },
  {
   "cell_type": "code",
   "execution_count": 112,
   "metadata": {},
   "outputs": [
    {
     "data": {
      "text/html": [
       "<div>\n",
       "<style scoped>\n",
       "    .dataframe tbody tr th:only-of-type {\n",
       "        vertical-align: middle;\n",
       "    }\n",
       "\n",
       "    .dataframe tbody tr th {\n",
       "        vertical-align: top;\n",
       "    }\n",
       "\n",
       "    .dataframe thead th {\n",
       "        text-align: right;\n",
       "    }\n",
       "</style>\n",
       "<table border=\"1\" class=\"dataframe\">\n",
       "  <thead>\n",
       "    <tr style=\"text-align: right;\">\n",
       "      <th></th>\n",
       "      <th>Postal Code</th>\n",
       "      <th>Borough</th>\n",
       "      <th>Neighbourhood</th>\n",
       "      <th>Latitude</th>\n",
       "      <th>Longitude</th>\n",
       "    </tr>\n",
       "  </thead>\n",
       "  <tbody>\n",
       "    <tr>\n",
       "      <th>0</th>\n",
       "      <td>M3A</td>\n",
       "      <td>North York</td>\n",
       "      <td>Parkwoods</td>\n",
       "      <td>43.753259</td>\n",
       "      <td>-79.329656</td>\n",
       "    </tr>\n",
       "    <tr>\n",
       "      <th>1</th>\n",
       "      <td>M4A</td>\n",
       "      <td>North York</td>\n",
       "      <td>Victoria Village</td>\n",
       "      <td>43.725882</td>\n",
       "      <td>-79.315572</td>\n",
       "    </tr>\n",
       "    <tr>\n",
       "      <th>2</th>\n",
       "      <td>M5A</td>\n",
       "      <td>Downtown Toronto</td>\n",
       "      <td>Regent Park, Harbourfront</td>\n",
       "      <td>43.654260</td>\n",
       "      <td>-79.360636</td>\n",
       "    </tr>\n",
       "    <tr>\n",
       "      <th>3</th>\n",
       "      <td>M6A</td>\n",
       "      <td>North York</td>\n",
       "      <td>Lawrence Manor, Lawrence Heights</td>\n",
       "      <td>43.718518</td>\n",
       "      <td>-79.464763</td>\n",
       "    </tr>\n",
       "    <tr>\n",
       "      <th>4</th>\n",
       "      <td>M7A</td>\n",
       "      <td>Downtown Toronto</td>\n",
       "      <td>Queen's Park, Ontario Provincial Government</td>\n",
       "      <td>43.662301</td>\n",
       "      <td>-79.389494</td>\n",
       "    </tr>\n",
       "  </tbody>\n",
       "</table>\n",
       "</div>"
      ],
      "text/plain": [
       "  Postal Code           Borough                                Neighbourhood  \\\n",
       "0         M3A        North York                                    Parkwoods   \n",
       "1         M4A        North York                             Victoria Village   \n",
       "2         M5A  Downtown Toronto                    Regent Park, Harbourfront   \n",
       "3         M6A        North York             Lawrence Manor, Lawrence Heights   \n",
       "4         M7A  Downtown Toronto  Queen's Park, Ontario Provincial Government   \n",
       "\n",
       "    Latitude  Longitude  \n",
       "0  43.753259 -79.329656  \n",
       "1  43.725882 -79.315572  \n",
       "2  43.654260 -79.360636  \n",
       "3  43.718518 -79.464763  \n",
       "4  43.662301 -79.389494  "
      ]
     },
     "execution_count": 112,
     "metadata": {},
     "output_type": "execute_result"
    }
   ],
   "source": [
    "# merge location and coordinate dfs\n",
    "new_df = pd.merge(df, data, on = \"Postal Code\")\n",
    "new_df.head()"
   ]
  },
  {
   "cell_type": "markdown",
   "metadata": {},
   "source": [
    "### Cluster and Plot"
   ]
  },
  {
   "cell_type": "code",
   "execution_count": 154,
   "metadata": {},
   "outputs": [],
   "source": [
    "# !pip install geopy # uncomment if geopy is not installed\n",
    "from geopy.geocoders import Nominatim # convert an address into latitude and longitude values\n",
    "\n",
    "# !pip install sklearn # uncomment if sklearn is not installed\n",
    "from sklearn.cluster import KMeans\n",
    "\n",
    "# !pip install folium # uncomment if folium is not installed\n",
    "import folium \n",
    "\n",
    "import numpy as np"
   ]
  },
  {
   "cell_type": "code",
   "execution_count": 145,
   "metadata": {},
   "outputs": [
    {
     "data": {
      "text/html": [
       "<div>\n",
       "<style scoped>\n",
       "    .dataframe tbody tr th:only-of-type {\n",
       "        vertical-align: middle;\n",
       "    }\n",
       "\n",
       "    .dataframe tbody tr th {\n",
       "        vertical-align: top;\n",
       "    }\n",
       "\n",
       "    .dataframe thead th {\n",
       "        text-align: right;\n",
       "    }\n",
       "</style>\n",
       "<table border=\"1\" class=\"dataframe\">\n",
       "  <thead>\n",
       "    <tr style=\"text-align: right;\">\n",
       "      <th></th>\n",
       "      <th>Postal Code</th>\n",
       "      <th>Borough</th>\n",
       "      <th>Neighbourhood</th>\n",
       "      <th>Latitude</th>\n",
       "      <th>Longitude</th>\n",
       "    </tr>\n",
       "  </thead>\n",
       "  <tbody>\n",
       "    <tr>\n",
       "      <th>2</th>\n",
       "      <td>M5A</td>\n",
       "      <td>Downtown Toronto</td>\n",
       "      <td>Regent Park, Harbourfront</td>\n",
       "      <td>43.654260</td>\n",
       "      <td>-79.360636</td>\n",
       "    </tr>\n",
       "    <tr>\n",
       "      <th>4</th>\n",
       "      <td>M7A</td>\n",
       "      <td>Downtown Toronto</td>\n",
       "      <td>Queen's Park, Ontario Provincial Government</td>\n",
       "      <td>43.662301</td>\n",
       "      <td>-79.389494</td>\n",
       "    </tr>\n",
       "    <tr>\n",
       "      <th>9</th>\n",
       "      <td>M5B</td>\n",
       "      <td>Downtown Toronto</td>\n",
       "      <td>Garden District, Ryerson</td>\n",
       "      <td>43.657162</td>\n",
       "      <td>-79.378937</td>\n",
       "    </tr>\n",
       "    <tr>\n",
       "      <th>15</th>\n",
       "      <td>M5C</td>\n",
       "      <td>Downtown Toronto</td>\n",
       "      <td>St. James Town</td>\n",
       "      <td>43.651494</td>\n",
       "      <td>-79.375418</td>\n",
       "    </tr>\n",
       "    <tr>\n",
       "      <th>19</th>\n",
       "      <td>M4E</td>\n",
       "      <td>East Toronto</td>\n",
       "      <td>The Beaches</td>\n",
       "      <td>43.676357</td>\n",
       "      <td>-79.293031</td>\n",
       "    </tr>\n",
       "  </tbody>\n",
       "</table>\n",
       "</div>"
      ],
      "text/plain": [
       "   Postal Code           Borough                                Neighbourhood  \\\n",
       "2          M5A  Downtown Toronto                    Regent Park, Harbourfront   \n",
       "4          M7A  Downtown Toronto  Queen's Park, Ontario Provincial Government   \n",
       "9          M5B  Downtown Toronto                     Garden District, Ryerson   \n",
       "15         M5C  Downtown Toronto                               St. James Town   \n",
       "19         M4E      East Toronto                                  The Beaches   \n",
       "\n",
       "     Latitude  Longitude  \n",
       "2   43.654260 -79.360636  \n",
       "4   43.662301 -79.389494  \n",
       "9   43.657162 -79.378937  \n",
       "15  43.651494 -79.375418  \n",
       "19  43.676357 -79.293031  "
      ]
     },
     "execution_count": 145,
     "metadata": {},
     "output_type": "execute_result"
    }
   ],
   "source": [
    "# select Toronto Neighbourhoods\n",
    "toronto = new_df[new_df.Borough.str.contains('Toronto')]\n",
    "toronto.head()"
   ]
  },
  {
   "cell_type": "code",
   "execution_count": 146,
   "metadata": {},
   "outputs": [
    {
     "data": {
      "text/plain": [
       "array([0, 0, 0, 0, 1, 0, 0, 3, 0, 2], dtype=int32)"
      ]
     },
     "execution_count": 146,
     "metadata": {},
     "output_type": "execute_result"
    }
   ],
   "source": [
    "# set number of clusters\n",
    "kclusters = 5\n",
    "\n",
    "cluster = toronto[[\"Latitude\",\"Longitude\"]]\n",
    "\n",
    "# run k-means clustering\n",
    "kmeans = KMeans(n_clusters=kclusters, random_state=0).fit(cluster)\n",
    "\n",
    "# check cluster labels generated for each row in the dataframe\n",
    "kmeans.labels_[0:10] "
   ]
  },
  {
   "cell_type": "code",
   "execution_count": 147,
   "metadata": {},
   "outputs": [
    {
     "data": {
      "text/html": [
       "<div>\n",
       "<style scoped>\n",
       "    .dataframe tbody tr th:only-of-type {\n",
       "        vertical-align: middle;\n",
       "    }\n",
       "\n",
       "    .dataframe tbody tr th {\n",
       "        vertical-align: top;\n",
       "    }\n",
       "\n",
       "    .dataframe thead th {\n",
       "        text-align: right;\n",
       "    }\n",
       "</style>\n",
       "<table border=\"1\" class=\"dataframe\">\n",
       "  <thead>\n",
       "    <tr style=\"text-align: right;\">\n",
       "      <th></th>\n",
       "      <th>Cluster Labels</th>\n",
       "      <th>Postal Code</th>\n",
       "      <th>Borough</th>\n",
       "      <th>Neighbourhood</th>\n",
       "      <th>Latitude</th>\n",
       "      <th>Longitude</th>\n",
       "    </tr>\n",
       "  </thead>\n",
       "  <tbody>\n",
       "    <tr>\n",
       "      <th>2</th>\n",
       "      <td>0</td>\n",
       "      <td>M5A</td>\n",
       "      <td>Downtown Toronto</td>\n",
       "      <td>Regent Park, Harbourfront</td>\n",
       "      <td>43.654260</td>\n",
       "      <td>-79.360636</td>\n",
       "    </tr>\n",
       "    <tr>\n",
       "      <th>4</th>\n",
       "      <td>0</td>\n",
       "      <td>M7A</td>\n",
       "      <td>Downtown Toronto</td>\n",
       "      <td>Queen's Park, Ontario Provincial Government</td>\n",
       "      <td>43.662301</td>\n",
       "      <td>-79.389494</td>\n",
       "    </tr>\n",
       "    <tr>\n",
       "      <th>9</th>\n",
       "      <td>0</td>\n",
       "      <td>M5B</td>\n",
       "      <td>Downtown Toronto</td>\n",
       "      <td>Garden District, Ryerson</td>\n",
       "      <td>43.657162</td>\n",
       "      <td>-79.378937</td>\n",
       "    </tr>\n",
       "    <tr>\n",
       "      <th>15</th>\n",
       "      <td>0</td>\n",
       "      <td>M5C</td>\n",
       "      <td>Downtown Toronto</td>\n",
       "      <td>St. James Town</td>\n",
       "      <td>43.651494</td>\n",
       "      <td>-79.375418</td>\n",
       "    </tr>\n",
       "    <tr>\n",
       "      <th>19</th>\n",
       "      <td>1</td>\n",
       "      <td>M4E</td>\n",
       "      <td>East Toronto</td>\n",
       "      <td>The Beaches</td>\n",
       "      <td>43.676357</td>\n",
       "      <td>-79.293031</td>\n",
       "    </tr>\n",
       "  </tbody>\n",
       "</table>\n",
       "</div>"
      ],
      "text/plain": [
       "    Cluster Labels Postal Code           Borough  \\\n",
       "2                0         M5A  Downtown Toronto   \n",
       "4                0         M7A  Downtown Toronto   \n",
       "9                0         M5B  Downtown Toronto   \n",
       "15               0         M5C  Downtown Toronto   \n",
       "19               1         M4E      East Toronto   \n",
       "\n",
       "                                  Neighbourhood   Latitude  Longitude  \n",
       "2                     Regent Park, Harbourfront  43.654260 -79.360636  \n",
       "4   Queen's Park, Ontario Provincial Government  43.662301 -79.389494  \n",
       "9                      Garden District, Ryerson  43.657162 -79.378937  \n",
       "15                               St. James Town  43.651494 -79.375418  \n",
       "19                                  The Beaches  43.676357 -79.293031  "
      ]
     },
     "execution_count": 147,
     "metadata": {},
     "output_type": "execute_result"
    }
   ],
   "source": [
    "# add clustering labels\n",
    "toronto.insert(0, 'Cluster Labels', kmeans.labels_)\n",
    "toronto.head()"
   ]
  },
  {
   "cell_type": "code",
   "execution_count": 152,
   "metadata": {},
   "outputs": [
    {
     "name": "stdout",
     "output_type": "stream",
     "text": [
      "43.6534817 -79.3839347\n"
     ]
    }
   ],
   "source": [
    "# Toronto coordinates\n",
    "address = 'Toronto'\n",
    "\n",
    "geolocator = Nominatim(user_agent=\"toronto\")\n",
    "location = geolocator.geocode(address)\n",
    "latitude = location.latitude\n",
    "longitude = location.longitude\n",
    "\n",
    "print(latitude, longitude)"
   ]
  },
  {
   "cell_type": "code",
   "execution_count": 155,
   "metadata": {},
   "outputs": [
    {
     "data": {
      "text/html": [
       "<div style=\"width:100%;\"><div style=\"position:relative;width:100%;height:0;padding-bottom:60%;\"><span style=\"color:#565656\">Make this Notebook Trusted to load map: File -> Trust Notebook</span><iframe src=\"about:blank\" style=\"position:absolute;width:100%;height:100%;left:0;top:0;border:none !important;\" data-html=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 onload=\"this.contentDocument.open();this.contentDocument.write(atob(this.getAttribute('data-html')));this.contentDocument.close();\" allowfullscreen webkitallowfullscreen mozallowfullscreen></iframe></div></div>"
      ],
      "text/plain": [
       "<folium.folium.Map at 0x1240b2110>"
      ]
     },
     "execution_count": 155,
     "metadata": {},
     "output_type": "execute_result"
    }
   ],
   "source": [
    "# create map\n",
    "map_clusters = folium.Map(location=[latitude, longitude], zoom_start=11)\n",
    "\n",
    "# set color scheme for the clusters\n",
    "x = np.arange(kclusters)\n",
    "ys = [i + x + (i*x)**2 for i in range(kclusters)]\n",
    "colors_array = cm.rainbow(np.linspace(0, 1, len(ys)))\n",
    "rainbow = [colors.rgb2hex(i) for i in colors_array]\n",
    "\n",
    "# add markers to the map\n",
    "markers_colors = []\n",
    "for lat, lon, poi, cluster in zip(toronto['Latitude'], toronto['Longitude'], toronto['Neighbourhood'], toronto['Cluster Labels']):\n",
    "    label = folium.Popup(str(poi) + ' Cluster ' + str(cluster), parse_html=True)\n",
    "    folium.CircleMarker(\n",
    "        [lat, lon],\n",
    "        radius=5,\n",
    "        popup=label,\n",
    "        color=rainbow[cluster-1],\n",
    "        fill=True,\n",
    "        fill_color=rainbow[cluster-1],\n",
    "        fill_opacity=0.7).add_to(map_clusters)\n",
    "       \n",
    "map_clusters"
   ]
  },
  {
   "cell_type": "code",
   "execution_count": null,
   "metadata": {},
   "outputs": [],
   "source": []
  },
  {
   "cell_type": "code",
   "execution_count": null,
   "metadata": {},
   "outputs": [],
   "source": []
  }
 ],
 "metadata": {
  "kernelspec": {
   "display_name": "Python 3",
   "language": "python",
   "name": "python3"
  },
  "language_info": {
   "codemirror_mode": {
    "name": "ipython",
    "version": 3
   },
   "file_extension": ".py",
   "mimetype": "text/x-python",
   "name": "python",
   "nbconvert_exporter": "python",
   "pygments_lexer": "ipython3",
   "version": "3.7.7"
  }
 },
 "nbformat": 4,
 "nbformat_minor": 4
}
