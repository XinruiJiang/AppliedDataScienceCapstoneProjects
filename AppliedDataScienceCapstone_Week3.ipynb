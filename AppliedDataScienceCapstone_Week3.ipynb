{
 "cells": [
  {
   "cell_type": "markdown",
   "metadata": {},
   "source": [
    "# Applied Data Science Capstone Project \n",
    "## Week 3"
   ]
  },
  {
   "cell_type": "markdown",
   "metadata": {},
   "source": [
    "### Read table"
   ]
  },
  {
   "cell_type": "code",
   "execution_count": 1,
   "metadata": {},
   "outputs": [],
   "source": [
    "#!pip install lxml # uncomment if lxml is not installed\n",
    "\n",
    "import requests\n",
    "import pandas as pd\n",
    "\n",
    "# provide url for scraping \n",
    "url = \"https://en.wikipedia.org/wiki/List_of_postal_codes_of_Canada:_M\"\n",
    "\n",
    "# grab and read info from html\n",
    "html = requests.get(url).content\n",
    "df_list = pd.read_html(html)"
   ]
  },
  {
   "cell_type": "code",
   "execution_count": 47,
   "metadata": {},
   "outputs": [
    {
     "data": {
      "text/html": [
       "<div>\n",
       "<style scoped>\n",
       "    .dataframe tbody tr th:only-of-type {\n",
       "        vertical-align: middle;\n",
       "    }\n",
       "\n",
       "    .dataframe tbody tr th {\n",
       "        vertical-align: top;\n",
       "    }\n",
       "\n",
       "    .dataframe thead th {\n",
       "        text-align: right;\n",
       "    }\n",
       "</style>\n",
       "<table border=\"1\" class=\"dataframe\">\n",
       "  <thead>\n",
       "    <tr style=\"text-align: right;\">\n",
       "      <th></th>\n",
       "      <th>Postal Code</th>\n",
       "      <th>Borough</th>\n",
       "      <th>Neighbourhood</th>\n",
       "    </tr>\n",
       "  </thead>\n",
       "  <tbody>\n",
       "    <tr>\n",
       "      <th>0</th>\n",
       "      <td>M3A</td>\n",
       "      <td>North York</td>\n",
       "      <td>Parkwoods</td>\n",
       "    </tr>\n",
       "    <tr>\n",
       "      <th>1</th>\n",
       "      <td>M4A</td>\n",
       "      <td>North York</td>\n",
       "      <td>Victoria Village</td>\n",
       "    </tr>\n",
       "    <tr>\n",
       "      <th>2</th>\n",
       "      <td>M5A</td>\n",
       "      <td>Downtown Toronto</td>\n",
       "      <td>Regent Park, Harbourfront</td>\n",
       "    </tr>\n",
       "    <tr>\n",
       "      <th>3</th>\n",
       "      <td>M6A</td>\n",
       "      <td>North York</td>\n",
       "      <td>Lawrence Manor, Lawrence Heights</td>\n",
       "    </tr>\n",
       "    <tr>\n",
       "      <th>4</th>\n",
       "      <td>M7A</td>\n",
       "      <td>Downtown Toronto</td>\n",
       "      <td>Queen's Park, Ontario Provincial Government</td>\n",
       "    </tr>\n",
       "  </tbody>\n",
       "</table>\n",
       "</div>"
      ],
      "text/plain": [
       "  Postal Code           Borough                                Neighbourhood\n",
       "0         M3A        North York                                    Parkwoods\n",
       "1         M4A        North York                             Victoria Village\n",
       "2         M5A  Downtown Toronto                    Regent Park, Harbourfront\n",
       "3         M6A        North York             Lawrence Manor, Lawrence Heights\n",
       "4         M7A  Downtown Toronto  Queen's Park, Ontario Provincial Government"
      ]
     },
     "execution_count": 47,
     "metadata": {},
     "output_type": "execute_result"
    }
   ],
   "source": [
    "# choose which table to look at\n",
    "# remove \"Not assigned\" records\n",
    "df = pd.read_html(html)[0]\n",
    "df = df[~df.Borough.str.contains(\"Not assigned\")].reset_index(drop = True)\n",
    "df.head()"
   ]
  },
  {
   "cell_type": "code",
   "execution_count": 48,
   "metadata": {},
   "outputs": [
    {
     "data": {
      "text/plain": [
       "(103, 3)"
      ]
     },
     "execution_count": 48,
     "metadata": {},
     "output_type": "execute_result"
    }
   ],
   "source": [
    "# print shape of df\n",
    "df.shape"
   ]
  },
  {
   "cell_type": "markdown",
   "metadata": {},
   "source": [
    "### Add geographical coordinates"
   ]
  },
  {
   "cell_type": "code",
   "execution_count": 108,
   "metadata": {},
   "outputs": [
    {
     "data": {
      "text/html": [
       "<div>\n",
       "<style scoped>\n",
       "    .dataframe tbody tr th:only-of-type {\n",
       "        vertical-align: middle;\n",
       "    }\n",
       "\n",
       "    .dataframe tbody tr th {\n",
       "        vertical-align: top;\n",
       "    }\n",
       "\n",
       "    .dataframe thead th {\n",
       "        text-align: right;\n",
       "    }\n",
       "</style>\n",
       "<table border=\"1\" class=\"dataframe\">\n",
       "  <thead>\n",
       "    <tr style=\"text-align: right;\">\n",
       "      <th></th>\n",
       "      <th>Postal Code</th>\n",
       "      <th>Latitude</th>\n",
       "      <th>Longitude</th>\n",
       "    </tr>\n",
       "  </thead>\n",
       "  <tbody>\n",
       "    <tr>\n",
       "      <th>0</th>\n",
       "      <td>M1B</td>\n",
       "      <td>43.806686</td>\n",
       "      <td>-79.194353</td>\n",
       "    </tr>\n",
       "    <tr>\n",
       "      <th>1</th>\n",
       "      <td>M1C</td>\n",
       "      <td>43.784535</td>\n",
       "      <td>-79.160497</td>\n",
       "    </tr>\n",
       "    <tr>\n",
       "      <th>2</th>\n",
       "      <td>M1E</td>\n",
       "      <td>43.763573</td>\n",
       "      <td>-79.188711</td>\n",
       "    </tr>\n",
       "    <tr>\n",
       "      <th>3</th>\n",
       "      <td>M1G</td>\n",
       "      <td>43.770992</td>\n",
       "      <td>-79.216917</td>\n",
       "    </tr>\n",
       "    <tr>\n",
       "      <th>4</th>\n",
       "      <td>M1H</td>\n",
       "      <td>43.773136</td>\n",
       "      <td>-79.239476</td>\n",
       "    </tr>\n",
       "  </tbody>\n",
       "</table>\n",
       "</div>"
      ],
      "text/plain": [
       "  Postal Code   Latitude  Longitude\n",
       "0         M1B  43.806686 -79.194353\n",
       "1         M1C  43.784535 -79.160497\n",
       "2         M1E  43.763573 -79.188711\n",
       "3         M1G  43.770992 -79.216917\n",
       "4         M1H  43.773136 -79.239476"
      ]
     },
     "execution_count": 108,
     "metadata": {},
     "output_type": "execute_result"
    }
   ],
   "source": [
    "# get coordinate data\n",
    "data = pd.read_csv('http://cocl.us/Geospatial_data')\n",
    "data.head()"
   ]
  },
  {
   "cell_type": "code",
   "execution_count": 112,
   "metadata": {},
   "outputs": [
    {
     "data": {
      "text/html": [
       "<div>\n",
       "<style scoped>\n",
       "    .dataframe tbody tr th:only-of-type {\n",
       "        vertical-align: middle;\n",
       "    }\n",
       "\n",
       "    .dataframe tbody tr th {\n",
       "        vertical-align: top;\n",
       "    }\n",
       "\n",
       "    .dataframe thead th {\n",
       "        text-align: right;\n",
       "    }\n",
       "</style>\n",
       "<table border=\"1\" class=\"dataframe\">\n",
       "  <thead>\n",
       "    <tr style=\"text-align: right;\">\n",
       "      <th></th>\n",
       "      <th>Postal Code</th>\n",
       "      <th>Borough</th>\n",
       "      <th>Neighbourhood</th>\n",
       "      <th>Latitude</th>\n",
       "      <th>Longitude</th>\n",
       "    </tr>\n",
       "  </thead>\n",
       "  <tbody>\n",
       "    <tr>\n",
       "      <th>0</th>\n",
       "      <td>M3A</td>\n",
       "      <td>North York</td>\n",
       "      <td>Parkwoods</td>\n",
       "      <td>43.753259</td>\n",
       "      <td>-79.329656</td>\n",
       "    </tr>\n",
       "    <tr>\n",
       "      <th>1</th>\n",
       "      <td>M4A</td>\n",
       "      <td>North York</td>\n",
       "      <td>Victoria Village</td>\n",
       "      <td>43.725882</td>\n",
       "      <td>-79.315572</td>\n",
       "    </tr>\n",
       "    <tr>\n",
       "      <th>2</th>\n",
       "      <td>M5A</td>\n",
       "      <td>Downtown Toronto</td>\n",
       "      <td>Regent Park, Harbourfront</td>\n",
       "      <td>43.654260</td>\n",
       "      <td>-79.360636</td>\n",
       "    </tr>\n",
       "    <tr>\n",
       "      <th>3</th>\n",
       "      <td>M6A</td>\n",
       "      <td>North York</td>\n",
       "      <td>Lawrence Manor, Lawrence Heights</td>\n",
       "      <td>43.718518</td>\n",
       "      <td>-79.464763</td>\n",
       "    </tr>\n",
       "    <tr>\n",
       "      <th>4</th>\n",
       "      <td>M7A</td>\n",
       "      <td>Downtown Toronto</td>\n",
       "      <td>Queen's Park, Ontario Provincial Government</td>\n",
       "      <td>43.662301</td>\n",
       "      <td>-79.389494</td>\n",
       "    </tr>\n",
       "  </tbody>\n",
       "</table>\n",
       "</div>"
      ],
      "text/plain": [
       "  Postal Code           Borough                                Neighbourhood  \\\n",
       "0         M3A        North York                                    Parkwoods   \n",
       "1         M4A        North York                             Victoria Village   \n",
       "2         M5A  Downtown Toronto                    Regent Park, Harbourfront   \n",
       "3         M6A        North York             Lawrence Manor, Lawrence Heights   \n",
       "4         M7A  Downtown Toronto  Queen's Park, Ontario Provincial Government   \n",
       "\n",
       "    Latitude  Longitude  \n",
       "0  43.753259 -79.329656  \n",
       "1  43.725882 -79.315572  \n",
       "2  43.654260 -79.360636  \n",
       "3  43.718518 -79.464763  \n",
       "4  43.662301 -79.389494  "
      ]
     },
     "execution_count": 112,
     "metadata": {},
     "output_type": "execute_result"
    }
   ],
   "source": [
    "# merge location and coordinate dfs\n",
    "new_df = pd.merge(df, data, on = \"Postal Code\")\n",
    "new_df.head()"
   ]
  },
  {
   "cell_type": "markdown",
   "metadata": {},
   "source": [
    "### Cluster and Plot"
   ]
  },
  {
   "cell_type": "code",
   "execution_count": 154,
   "metadata": {},
   "outputs": [],
   "source": [
    "# !pip install geopy # uncomment if geopy is not installed\n",
    "from geopy.geocoders import Nominatim # convert an address into latitude and longitude values\n",
    "\n",
    "# !pip install sklearn # uncomment if sklearn is not installed\n",
    "from sklearn.cluster import KMeans\n",
    "\n",
    "# !pip install folium # uncomment if folium is not installed\n",
    "import folium \n",
    "\n",
    "import numpy as np"
   ]
  },
  {
   "cell_type": "code",
   "execution_count": 145,
   "metadata": {},
   "outputs": [
    {
     "data": {
      "text/html": [
       "<div>\n",
       "<style scoped>\n",
       "    .dataframe tbody tr th:only-of-type {\n",
       "        vertical-align: middle;\n",
       "    }\n",
       "\n",
       "    .dataframe tbody tr th {\n",
       "        vertical-align: top;\n",
       "    }\n",
       "\n",
       "    .dataframe thead th {\n",
       "        text-align: right;\n",
       "    }\n",
       "</style>\n",
       "<table border=\"1\" class=\"dataframe\">\n",
       "  <thead>\n",
       "    <tr style=\"text-align: right;\">\n",
       "      <th></th>\n",
       "      <th>Postal Code</th>\n",
       "      <th>Borough</th>\n",
       "      <th>Neighbourhood</th>\n",
       "      <th>Latitude</th>\n",
       "      <th>Longitude</th>\n",
       "    </tr>\n",
       "  </thead>\n",
       "  <tbody>\n",
       "    <tr>\n",
       "      <th>2</th>\n",
       "      <td>M5A</td>\n",
       "      <td>Downtown Toronto</td>\n",
       "      <td>Regent Park, Harbourfront</td>\n",
       "      <td>43.654260</td>\n",
       "      <td>-79.360636</td>\n",
       "    </tr>\n",
       "    <tr>\n",
       "      <th>4</th>\n",
       "      <td>M7A</td>\n",
       "      <td>Downtown Toronto</td>\n",
       "      <td>Queen's Park, Ontario Provincial Government</td>\n",
       "      <td>43.662301</td>\n",
       "      <td>-79.389494</td>\n",
       "    </tr>\n",
       "    <tr>\n",
       "      <th>9</th>\n",
       "      <td>M5B</td>\n",
       "      <td>Downtown Toronto</td>\n",
       "      <td>Garden District, Ryerson</td>\n",
       "      <td>43.657162</td>\n",
       "      <td>-79.378937</td>\n",
       "    </tr>\n",
       "    <tr>\n",
       "      <th>15</th>\n",
       "      <td>M5C</td>\n",
       "      <td>Downtown Toronto</td>\n",
       "      <td>St. James Town</td>\n",
       "      <td>43.651494</td>\n",
       "      <td>-79.375418</td>\n",
       "    </tr>\n",
       "    <tr>\n",
       "      <th>19</th>\n",
       "      <td>M4E</td>\n",
       "      <td>East Toronto</td>\n",
       "      <td>The Beaches</td>\n",
       "      <td>43.676357</td>\n",
       "      <td>-79.293031</td>\n",
       "    </tr>\n",
       "  </tbody>\n",
       "</table>\n",
       "</div>"
      ],
      "text/plain": [
       "   Postal Code           Borough                                Neighbourhood  \\\n",
       "2          M5A  Downtown Toronto                    Regent Park, Harbourfront   \n",
       "4          M7A  Downtown Toronto  Queen's Park, Ontario Provincial Government   \n",
       "9          M5B  Downtown Toronto                     Garden District, Ryerson   \n",
       "15         M5C  Downtown Toronto                               St. James Town   \n",
       "19         M4E      East Toronto                                  The Beaches   \n",
       "\n",
       "     Latitude  Longitude  \n",
       "2   43.654260 -79.360636  \n",
       "4   43.662301 -79.389494  \n",
       "9   43.657162 -79.378937  \n",
       "15  43.651494 -79.375418  \n",
       "19  43.676357 -79.293031  "
      ]
     },
     "execution_count": 145,
     "metadata": {},
     "output_type": "execute_result"
    }
   ],
   "source": [
    "# select Toronto Neighbourhoods\n",
    "toronto = new_df[new_df.Borough.str.contains('Toronto')]\n",
    "toronto.head()"
   ]
  },
  {
   "cell_type": "code",
   "execution_count": 146,
   "metadata": {},
   "outputs": [
    {
     "data": {
      "text/plain": [
       "array([0, 0, 0, 0, 1, 0, 0, 3, 0, 2], dtype=int32)"
      ]
     },
     "execution_count": 146,
     "metadata": {},
     "output_type": "execute_result"
    }
   ],
   "source": [
    "# set number of clusters\n",
    "kclusters = 5\n",
    "\n",
    "cluster = toronto[[\"Latitude\",\"Longitude\"]]\n",
    "\n",
    "# run k-means clustering\n",
    "kmeans = KMeans(n_clusters=kclusters, random_state=0).fit(cluster)\n",
    "\n",
    "# check cluster labels generated for each row in the dataframe\n",
    "kmeans.labels_[0:10] "
   ]
  },
  {
   "cell_type": "code",
   "execution_count": 147,
   "metadata": {},
   "outputs": [
    {
     "data": {
      "text/html": [
       "<div>\n",
       "<style scoped>\n",
       "    .dataframe tbody tr th:only-of-type {\n",
       "        vertical-align: middle;\n",
       "    }\n",
       "\n",
       "    .dataframe tbody tr th {\n",
       "        vertical-align: top;\n",
       "    }\n",
       "\n",
       "    .dataframe thead th {\n",
       "        text-align: right;\n",
       "    }\n",
       "</style>\n",
       "<table border=\"1\" class=\"dataframe\">\n",
       "  <thead>\n",
       "    <tr style=\"text-align: right;\">\n",
       "      <th></th>\n",
       "      <th>Cluster Labels</th>\n",
       "      <th>Postal Code</th>\n",
       "      <th>Borough</th>\n",
       "      <th>Neighbourhood</th>\n",
       "      <th>Latitude</th>\n",
       "      <th>Longitude</th>\n",
       "    </tr>\n",
       "  </thead>\n",
       "  <tbody>\n",
       "    <tr>\n",
       "      <th>2</th>\n",
       "      <td>0</td>\n",
       "      <td>M5A</td>\n",
       "      <td>Downtown Toronto</td>\n",
       "      <td>Regent Park, Harbourfront</td>\n",
       "      <td>43.654260</td>\n",
       "      <td>-79.360636</td>\n",
       "    </tr>\n",
       "    <tr>\n",
       "      <th>4</th>\n",
       "      <td>0</td>\n",
       "      <td>M7A</td>\n",
       "      <td>Downtown Toronto</td>\n",
       "      <td>Queen's Park, Ontario Provincial Government</td>\n",
       "      <td>43.662301</td>\n",
       "      <td>-79.389494</td>\n",
       "    </tr>\n",
       "    <tr>\n",
       "      <th>9</th>\n",
       "      <td>0</td>\n",
       "      <td>M5B</td>\n",
       "      <td>Downtown Toronto</td>\n",
       "      <td>Garden District, Ryerson</td>\n",
       "      <td>43.657162</td>\n",
       "      <td>-79.378937</td>\n",
       "    </tr>\n",
       "    <tr>\n",
       "      <th>15</th>\n",
       "      <td>0</td>\n",
       "      <td>M5C</td>\n",
       "      <td>Downtown Toronto</td>\n",
       "      <td>St. James Town</td>\n",
       "      <td>43.651494</td>\n",
       "      <td>-79.375418</td>\n",
       "    </tr>\n",
       "    <tr>\n",
       "      <th>19</th>\n",
       "      <td>1</td>\n",
       "      <td>M4E</td>\n",
       "      <td>East Toronto</td>\n",
       "      <td>The Beaches</td>\n",
       "      <td>43.676357</td>\n",
       "      <td>-79.293031</td>\n",
       "    </tr>\n",
       "  </tbody>\n",
       "</table>\n",
       "</div>"
      ],
      "text/plain": [
       "    Cluster Labels Postal Code           Borough  \\\n",
       "2                0         M5A  Downtown Toronto   \n",
       "4                0         M7A  Downtown Toronto   \n",
       "9                0         M5B  Downtown Toronto   \n",
       "15               0         M5C  Downtown Toronto   \n",
       "19               1         M4E      East Toronto   \n",
       "\n",
       "                                  Neighbourhood   Latitude  Longitude  \n",
       "2                     Regent Park, Harbourfront  43.654260 -79.360636  \n",
       "4   Queen's Park, Ontario Provincial Government  43.662301 -79.389494  \n",
       "9                      Garden District, Ryerson  43.657162 -79.378937  \n",
       "15                               St. James Town  43.651494 -79.375418  \n",
       "19                                  The Beaches  43.676357 -79.293031  "
      ]
     },
     "execution_count": 147,
     "metadata": {},
     "output_type": "execute_result"
    }
   ],
   "source": [
    "# add clustering labels\n",
    "toronto.insert(0, 'Cluster Labels', kmeans.labels_)\n",
    "toronto.head()"
   ]
  },
  {
   "cell_type": "code",
   "execution_count": 152,
   "metadata": {},
   "outputs": [
    {
     "name": "stdout",
     "output_type": "stream",
     "text": [
      "43.6534817 -79.3839347\n"
     ]
    }
   ],
   "source": [
    "# Toronto coordinates\n",
    "address = 'Toronto'\n",
    "\n",
    "geolocator = Nominatim(user_agent=\"toronto\")\n",
    "location = geolocator.geocode(address)\n",
    "latitude = location.latitude\n",
    "longitude = location.longitude\n",
    "\n",
    "print(latitude, longitude)"
   ]
  },
  {
   "cell_type": "code",
   "execution_count": 156,
   "metadata": {},
   "outputs": [
    {
     "data": {
      "text/html": [
       "<div style=\"width:100%;\"><div style=\"position:relative;width:100%;height:0;padding-bottom:60%;\"><span style=\"color:#565656\">Make this Notebook Trusted to load map: File -> Trust Notebook</span><iframe src=\"about:blank\" style=\"position:absolute;width:100%;height:100%;left:0;top:0;border:none !important;\" data-html=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 onload=\"this.contentDocument.open();this.contentDocument.write(atob(this.getAttribute('data-html')));this.contentDocument.close();\" allowfullscreen webkitallowfullscreen mozallowfullscreen></iframe></div></div>"
      ],
      "text/plain": [
       "<folium.folium.Map at 0x124102f50>"
      ]
     },
     "execution_count": 156,
     "metadata": {},
     "output_type": "execute_result"
    }
   ],
   "source": [
    "# create map\n",
    "map_clusters = folium.Map(location=[latitude, longitude], zoom_start=11)\n",
    "\n",
    "# set color scheme for the clusters\n",
    "x = np.arange(kclusters)\n",
    "ys = [i + x + (i*x)**2 for i in range(kclusters)]\n",
    "colors_array = cm.rainbow(np.linspace(0, 1, len(ys)))\n",
    "rainbow = [colors.rgb2hex(i) for i in colors_array]\n",
    "\n",
    "# add markers to the map\n",
    "markers_colors = []\n",
    "for lat, lon, poi, cluster in zip(toronto['Latitude'], toronto['Longitude'], toronto['Neighbourhood'], toronto['Cluster Labels']):\n",
    "    label = folium.Popup(str(poi) + ' Cluster ' + str(cluster), parse_html=True)\n",
    "    folium.CircleMarker(\n",
    "        [lat, lon],\n",
    "        radius=5,\n",
    "        popup=label,\n",
    "        color=rainbow[cluster-1],\n",
    "        fill=True,\n",
    "        fill_color=rainbow[cluster-1],\n",
    "        fill_opacity=0.7).add_to(map_clusters)\n",
    "       \n",
    "map_clusters"
   ]
  },
  {
   "cell_type": "code",
   "execution_count": null,
   "metadata": {},
   "outputs": [],
   "source": []
  },
  {
   "cell_type": "code",
   "execution_count": null,
   "metadata": {},
   "outputs": [],
   "source": []
  }
 ],
 "metadata": {
  "kernelspec": {
   "display_name": "Python 3",
   "language": "python",
   "name": "python3"
  },
  "language_info": {
   "codemirror_mode": {
    "name": "ipython",
    "version": 3
   },
   "file_extension": ".py",
   "mimetype": "text/x-python",
   "name": "python",
   "nbconvert_exporter": "python",
   "pygments_lexer": "ipython3",
   "version": "3.7.7"
  }
 },
 "nbformat": 4,
 "nbformat_minor": 4
}
